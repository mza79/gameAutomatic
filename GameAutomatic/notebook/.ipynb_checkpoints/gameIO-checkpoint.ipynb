{
 "cells": [
  {
   "cell_type": "code",
   "execution_count": 1,
   "metadata": {},
   "outputs": [],
   "source": [
    "# This program is developed for CMPT 383 project\n",
    "\n",
    "# Python file for functions that handle screen reading, \n",
    "# recording and performing mouse operations\n",
    "import numpy as np\n",
    "from PIL import ImageGrab\n",
    "from PIL import Image\n",
    "import mouse\n",
    "import keyboard\n",
    "import time"
   ]
  },
  {
   "cell_type": "code",
   "execution_count": 30,
   "metadata": {},
   "outputs": [],
   "source": [
    "# save screen to file, can set delay for screen captrue\n",
    "def save_screen(name,x1=0,y1=0,x2=1920,y2=1080,delay = 0):\n",
    "    \n",
    "    time.sleep(delay)\n",
    "#     last_time = time.time()\n",
    "    # whole screen\n",
    "    screen =  ImageGrab.grab(bbox =(x1,y1,x2,y2))\n",
    "#     print('screen read took {} seconds'.format(time.time()-last_time))\n",
    "#     last_time = time.time()\n",
    "    screen.save(name)\n",
    "\n",
    "# read the current screen and returns as np_array\n",
    "def read_current_screen(x1=0,y1=0,x2=1920,y2=1080):\n",
    "    last_time = time.time()\n",
    "    # whole screen\n",
    "    screen =  np.array(ImageGrab.grab(bbox =(x1,y1,x2,y2)))\n",
    "#     print('screen read took {} seconds'.format(time.time()-last_time))\n",
    "    last_time = time.time()\n",
    "    return screen\n",
    "\n",
    "#read img from file\n",
    "def read_img(name):\n",
    "    return Image.open(name)\n"
   ]
  },
  {
   "cell_type": "code",
   "execution_count": 53,
   "metadata": {},
   "outputs": [],
   "source": [
    "# record mouse ops\n",
    "def recordPath(frameNum):\n",
    "    frameName = str(frameNum) + \".txt\"\n",
    "    #record mouse procedure\n",
    "    path = []\n",
    "    while True:\n",
    "        if keyboard.is_pressed('r'):\n",
    "            time.sleep(0.5)\n",
    "            print(\"begin record mouse movements\")\n",
    "            while(not keyboard.is_pressed('r')):\n",
    "                if mouse.is_pressed():\n",
    "                    pos = mouse.get_position()\n",
    "                    path.append(pos)\n",
    "                    print(\"mouse click:\",pos[0],pos[1])\n",
    "                    time.sleep(0.3)\n",
    "            print(\"end record mouse movements\")\n",
    "            writePath(str(frameNum)+\".txt\",path)\n",
    "            return path\n",
    "            \n"
   ]
  },
  {
   "cell_type": "code",
   "execution_count": 54,
   "metadata": {},
   "outputs": [],
   "source": [
    "# write mouse ops recording to file\n",
    "def writePath(name,path):\n",
    "    f = open(name,\"w\")\n",
    "    for i in range(len(path)):\n",
    "        f.write(str(path[i][0]) + ',' + str(path[i][1]) + '\\n')\n",
    "    f.close()"
   ]
  },
  {
   "cell_type": "code",
   "execution_count": 78,
   "metadata": {},
   "outputs": [],
   "source": [
    "#read mouse ops recording from file\n",
    "def readPath(name):\n",
    "    pathr = []\n",
    "    f = open(name,\"r\")\n",
    "    for line in f:\n",
    "        xy = line.split(',')\n",
    "        x = int(xy[0])\n",
    "        y = int(xy[1])\n",
    "        pathr.append([x,y])\n",
    "    f.close()\n",
    "    return pathr"
   ]
  },
  {
   "cell_type": "code",
   "execution_count": 66,
   "metadata": {},
   "outputs": [],
   "source": [
    "#perform mouse procdure path\n",
    "def performPath(path,animation = 1, delay = 0.3):\n",
    "    for xy in path:\n",
    "        mouse.move(xy[0], xy[1],duration=animation)\n",
    "        mouse.click()\n",
    "        time.sleep(delay)"
   ]
  },
  {
   "cell_type": "code",
   "execution_count": 76,
   "metadata": {},
   "outputs": [],
   "source": [
    "# operations to perform when target frame match is found\n",
    "def opAtMatch(opsNum):\n",
    "    path = readPath(str(opsNum) + \".txt\")\n",
    "    performPath(path,animation = 1, delay = 0.3)"
   ]
  },
  {
   "cell_type": "code",
   "execution_count": 71,
   "metadata": {},
   "outputs": [],
   "source": [
    "def cellAtMatch(row,col):\n",
    "    # inital 625, 230\n",
    "    # width = 82\n",
    "    width = 82\n",
    "    x = 625 + (col-1)*width + width/2\n",
    "    y = 230 + (row-1)*width + width/2\n",
    "    path = []\n",
    "    path.append([x,y])\n",
    "    performPath(path,animation = 1, delay = 0.3)"
   ]
  },
  {
   "cell_type": "code",
   "execution_count": 8,
   "metadata": {},
   "outputs": [],
   "source": [
    "#record stages phase\n",
    "# record target frame and sequential mouse ops\n",
    "# and writes into file <framenum>.png & <framenum>.txt\n",
    "def recordStage(frameNum,x1=0,y1=0,x2=1920,y2=1080):\n",
    "    print(\"press 'p' to start recording target stage\")\n",
    "    while True:\n",
    "        if keyboard.is_pressed('p'):\n",
    "            print(\"begin record target stages\")\n",
    "            time.sleep(0.5)\n",
    "            \n",
    "            save_screen(str(frameNum)+\".png\",x1,y1,x2,y2)\n",
    "            print(\"target frame saved\")\n",
    "\n",
    "            print(\"press 'r' to record mouse movements\")\n",
    "            print(\"press 'r' agian to end recording mouse movements\")\n",
    "            while True:\n",
    "                path = recordPath(frameNum)\n",
    "                break\n",
    "            print(\"done recording target stage\")\n",
    "            break\n",
    "    writePath(str(frameNum)+\".txt\",path)\n",
    " "
   ]
  },
  {
   "cell_type": "code",
   "execution_count": 39,
   "metadata": {},
   "outputs": [],
   "source": [
    "# with careful measure, coordinate system of sudoku in sudoku.game is:\n",
    "\n",
    "# first border 625, 230\n",
    "# width = 82\n",
    "\n",
    "def saveBoardAsPNG():\n",
    "    x = 625\n",
    "    y = 230\n",
    "    width = 82\n",
    "\n",
    "    b = 0 \n",
    "    time.sleep(2.4)\n",
    "    for j in range(9):\n",
    "        for i in range(9):\n",
    "            x1 = x + width * i\n",
    "            y1 = y + width * j\n",
    "            x2 = x + width * (i+1)\n",
    "            y2 = y + width * (j+1)\n",
    "            save_screen(str(b)+\".png\",x1,y1,x2,y2)\n",
    "            b+=1"
   ]
  },
  {
   "cell_type": "code",
   "execution_count": 91,
   "metadata": {},
   "outputs": [],
   "source": [
    "# index begin with 1\n",
    "# cellAtMatch(row,col)\n",
    "\n",
    "# 1-9 : 101 - 109 .txt file\n",
    "# opAtMatch(10x)\n",
    "\n",
    "# hold esc to stop\n",
    "def run():\n",
    "    f = open(\"boardSolution.txt\",\"r\")\n",
    "    for line in f:\n",
    "        if keyboard.is_pressed('esc'):\n",
    "            return\n",
    "        xyz = line.split(',')\n",
    "        x = int(xyz[0]) # row\n",
    "        y = int(xyz[1]) # col\n",
    "        z = int(xyz[2]) # number to place\n",
    "        cellAtMatch(x,y)\n",
    "        opAtMatch(100 + int(z))\n",
    "    f.close()"
   ]
  },
  {
   "cell_type": "code",
   "execution_count": 92,
   "metadata": {},
   "outputs": [],
   "source": [
    "time.sleep(2.4)\n",
    "run()"
   ]
  },
  {
   "cell_type": "code",
   "execution_count": 89,
   "metadata": {},
   "outputs": [
    {
     "name": "stdout",
     "output_type": "stream",
     "text": [
      "111111\n"
     ]
    }
   ],
   "source": []
  },
  {
   "cell_type": "code",
   "execution_count": null,
   "metadata": {},
   "outputs": [],
   "source": []
  }
 ],
 "metadata": {
  "kernelspec": {
   "display_name": "Python 3",
   "language": "python",
   "name": "python3"
  },
  "language_info": {
   "codemirror_mode": {
    "name": "ipython",
    "version": 3
   },
   "file_extension": ".py",
   "mimetype": "text/x-python",
   "name": "python",
   "nbconvert_exporter": "python",
   "pygments_lexer": "ipython3",
   "version": "3.6.9"
  }
 },
 "nbformat": 4,
 "nbformat_minor": 2
}
