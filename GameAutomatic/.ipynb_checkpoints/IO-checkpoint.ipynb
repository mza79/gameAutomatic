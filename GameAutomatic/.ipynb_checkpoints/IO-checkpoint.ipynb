{
 "cells": [
  {
   "cell_type": "code",
   "execution_count": 2,
   "metadata": {},
   "outputs": [],
   "source": [
    "# This program is developed for CMPT 383 project\n",
    "\n",
    "# Python file for functions that handle screen reading, \n",
    "# recording and performing mouse operations\n",
    "import numpy as np\n",
    "from PIL import ImageGrab\n",
    "from PIL import Image\n",
    "import mouse\n",
    "import keyboard\n",
    "import time"
   ]
  },
  {
   "cell_type": "code",
   "execution_count": 4,
   "metadata": {},
   "outputs": [],
   "source": [
    "# save screen to file, can set delay for screen captrue\n",
    "def save_screen(name,x1=0,y1=0,x2=1920,y2=1080,delay = 0):\n",
    "    \n",
    "    time.sleep(delay)\n",
    "#     last_time = time.time()\n",
    "    # whole screen\n",
    "    screen =  ImageGrab.grab(bbox =(x1,y1,x2,y2))\n",
    "#     print('screen read took {} seconds'.format(time.time()-last_time))\n",
    "#     last_time = time.time()\n",
    "    screen.save(name)\n",
    "\n",
    "# read the current screen and returns as np_array\n",
    "def read_current_screen(x1=0,y1=0,x2=1920,y2=1080):\n",
    "    last_time = time.time()\n",
    "    # whole screen\n",
    "    screen =  np.array(ImageGrab.grab(bbox =(x1,y1,x2,y2)))\n",
    "#     print('screen read took {} seconds'.format(time.time()-last_time))\n",
    "    last_time = time.time()\n",
    "    return screen\n",
    "\n",
    "#read img from file\n",
    "def read_img(name):\n",
    "    return Image.open(name)\n"
   ]
  },
  {
   "cell_type": "code",
   "execution_count": 3,
   "metadata": {},
   "outputs": [],
   "source": [
    "# record mouse ops\n",
    "def recordPath(frameNum):\n",
    "    frameName = str(frameNum) + \".txt\"\n",
    "    #record mouse procedure\n",
    "    path = []\n",
    "    while True:\n",
    "        if keyboard.is_pressed('r'):\n",
    "            time.sleep(0.5)\n",
    "            print(\"begin record mouse movements\")\n",
    "            while(not keyboard.is_pressed('r')):\n",
    "                if mouse.is_pressed():\n",
    "                    pos = mouse.get_position()\n",
    "                    path.append(pos)\n",
    "                    print(\"mouse click:\",pos[0],pos[1])\n",
    "                    time.sleep(0.3)\n",
    "            print(\"end record mouse movements\")\n",
    "            return path\n",
    "            \n"
   ]
  },
  {
   "cell_type": "code",
   "execution_count": 4,
   "metadata": {},
   "outputs": [],
   "source": [
    "# write mouse ops recording to file\n",
    "def writePath(name,path):\n",
    "    f = open(name,\"w\")\n",
    "    for i in range(len(path)):\n",
    "        f.write(str(path[i][0]) + ',' + str(path[i][1]) + '\\n')\n",
    "    f.close()"
   ]
  },
  {
   "cell_type": "code",
   "execution_count": 5,
   "metadata": {},
   "outputs": [],
   "source": [
    "#read mouse ops recording from file\n",
    "def readPath(name):\n",
    "    pathr = []\n",
    "    f = open(name,\"r\")\n",
    "    for line in f:\n",
    "        xy = line.split(',')\n",
    "        x = int(xy[0])\n",
    "        y = int(xy[1])\n",
    "        pathr.append([x,y])\n",
    "    f.close()\n",
    "    return pathr"
   ]
  },
  {
   "cell_type": "code",
   "execution_count": 6,
   "metadata": {},
   "outputs": [],
   "source": [
    "#perform mouse procdure path\n",
    "def performPath(path,animation = 1, delay = 0.3):\n",
    "    for xy in path:\n",
    "        mouse.move(xy[0], xy[1],duration=animation)\n",
    "        mouse.click()\n",
    "        time.sleep(0.3)"
   ]
  },
  {
   "cell_type": "code",
   "execution_count": 7,
   "metadata": {},
   "outputs": [],
   "source": [
    "# operations to perform when target frame match is found\n",
    "def opAtMatch(opsNum):\n",
    "    path = readPath(str(opsNum) + \".txt\")\n",
    "    performPath(path,animation = 1, delay = 0.3)"
   ]
  },
  {
   "cell_type": "code",
   "execution_count": 8,
   "metadata": {},
   "outputs": [],
   "source": [
    "#record stages phase\n",
    "# record target frame and sequential mouse ops\n",
    "# and writes into file <framenum>.png & <framenum>.txt\n",
    "def recordStage(frameNum,x1=0,y1=0,x2=1920,y2=1080):\n",
    "    print(\"press 'p' to start recording target stage\")\n",
    "    while True:\n",
    "        if keyboard.is_pressed('p'):\n",
    "            print(\"begin record target stages\")\n",
    "            time.sleep(0.5)\n",
    "            \n",
    "            save_screen(str(frameNum)+\".png\",x1,y1,x2,y2)\n",
    "            print(\"target frame saved\")\n",
    "\n",
    "            print(\"press 'r' to record mouse movements\")\n",
    "            print(\"press 'r' agian to end recording mouse movements\")\n",
    "            while True:\n",
    "                path = recordPath(frameNum)\n",
    "                break\n",
    "            print(\"done recording target stage\")\n",
    "            break\n",
    "    writePath(str(frameNum)+\".txt\",path)\n",
    " "
   ]
  },
  {
   "cell_type": "code",
   "execution_count": null,
   "metadata": {},
   "outputs": [],
   "source": []
  }
 ],
 "metadata": {
  "kernelspec": {
   "display_name": "Python 3",
   "language": "python",
   "name": "python3"
  },
  "language_info": {
   "codemirror_mode": {
    "name": "ipython",
    "version": 3
   },
   "file_extension": ".py",
   "mimetype": "text/x-python",
   "name": "python",
   "nbconvert_exporter": "python",
   "pygments_lexer": "ipython3",
   "version": "3.6.9"
  }
 },
 "nbformat": 4,
 "nbformat_minor": 2
}
