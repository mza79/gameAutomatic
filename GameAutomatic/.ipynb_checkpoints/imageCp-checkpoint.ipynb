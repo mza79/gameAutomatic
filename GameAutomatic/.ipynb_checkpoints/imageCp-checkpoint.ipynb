{
 "cells": [
  {
   "cell_type": "code",
   "execution_count": 1,
   "metadata": {},
   "outputs": [
    {
     "data": {
      "text/plain": [
       "PyObject <module 'PIL.ImageGrab' from '/home/tom/.local/lib/python3.6/site-packages/PIL/ImageGrab.py'>"
      ]
     },
     "execution_count": 1,
     "metadata": {},
     "output_type": "execute_result"
    }
   ],
   "source": [
    "using PyCall\n",
    "using Images\n",
    "np = pyimport(\"numpy\")\n",
    "Image = pyimport(\"PIL.Image\")\n",
    "ImageGrab = pyimport(\"PIL.ImageGrab\")"
   ]
  },
  {
   "cell_type": "code",
   "execution_count": 2,
   "metadata": {},
   "outputs": [
    {
     "data": {
      "text/plain": [
       "read_current_screen (generic function with 5 methods)"
      ]
     },
     "execution_count": 2,
     "metadata": {},
     "output_type": "execute_result"
    }
   ],
   "source": [
    "# read image of current screen.\n",
    "function read_current_screen(x1=0,y1=0,x2=1920,y2=1080)\n",
    "    screen =  ImageGrab.grab(bbox =(x1,y1,x2,y2))\n",
    "    return screen\n",
    "end"
   ]
  },
  {
   "cell_type": "code",
   "execution_count": 3,
   "metadata": {},
   "outputs": [
    {
     "data": {
      "text/plain": [
       "read_img (generic function with 1 method)"
      ]
     },
     "execution_count": 3,
     "metadata": {},
     "output_type": "execute_result"
    }
   ],
   "source": [
    "# read img file\n",
    "function read_img(name)\n",
    "    return Image.open(name)\n",
    "end"
   ]
  },
  {
   "cell_type": "code",
   "execution_count": 4,
   "metadata": {},
   "outputs": [
    {
     "data": {
      "text/plain": [
       "percentDiffvsCurrent (generic function with 5 methods)"
      ]
     },
     "execution_count": 4,
     "metadata": {},
     "output_type": "execute_result"
    }
   ],
   "source": [
    "#calculate abs sum difference between two RGB pixels\n",
    "function pixelDiff(p1,p2)\n",
    "    sumDiff = 0\n",
    "    for (i,j) in zip(p1,p2)\n",
    "        sumDiff += abs(i-j)\n",
    "    end\n",
    "return sumDiff\n",
    "end\n",
    "\n",
    "\n",
    "# compute percentage difference of current screen versus saved image on specified coordinates\n",
    "function percentDiffvsCurrent(filename,x1=0,y1=0,x2=1920,y2=1080)\n",
    "    i1 = read_current_screen(x1,y1,x2,y2)\n",
    "    i2 = read_img(filename)\n",
    "    sumDif = 0\n",
    "    #check compatibility of images\n",
    "    if i1.mode != i2.mode\n",
    "        error(\"different kinds of image\")\n",
    "    elseif i1.size != i2.size\n",
    "        error(\"different image sizes\")\n",
    "\n",
    "    #main loop\n",
    "    else\n",
    "        pairs = zip(i1.getdata(),i2.getdata())\n",
    "        if(length(i1.getbands())) == 1\n",
    "            # image is grey scale \n",
    "            for (i,j) in pairs\n",
    "                sumDif += abs(i-j)\n",
    "            end\n",
    "        else\n",
    "            # RGB image\n",
    "            for (i,j) in pairs\n",
    "                sumDif += pixelDiff(i,j)\n",
    "            end\n",
    "        end\n",
    "    end\n",
    "    #number of pixels\n",
    "    n = i1.size[1] * i1.size[2] * 3\n",
    "    # calculate percentage diff\n",
    "    percentDiff = sumDif/255 * 100 /n\n",
    "    return percentDiff\n",
    "    \n",
    "end"
   ]
  },
  {
   "cell_type": "code",
   "execution_count": null,
   "metadata": {},
   "outputs": [],
   "source": []
  }
 ],
 "metadata": {
  "kernelspec": {
   "display_name": "Julia 1.4.2",
   "language": "julia",
   "name": "julia-1.4"
  },
  "language_info": {
   "file_extension": ".jl",
   "mimetype": "application/julia",
   "name": "julia",
   "version": "1.4.2"
  }
 },
 "nbformat": 4,
 "nbformat_minor": 2
}
